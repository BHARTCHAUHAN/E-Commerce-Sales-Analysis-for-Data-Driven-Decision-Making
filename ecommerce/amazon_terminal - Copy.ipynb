{
 "cells": [
  {
   "cell_type": "code",
   "execution_count": 1,
   "id": "699114e7-3b11-4337-be08-37c79a93bacd",
   "metadata": {},
   "outputs": [],
   "source": [
    "import pandas as pd "
   ]
  },
  {
   "cell_type": "code",
   "execution_count": 2,
   "id": "b47cf1cf-9803-45ea-9a0b-a78fc943ffb6",
   "metadata": {},
   "outputs": [],
   "source": [
    "df = pd.read_csv('Amazon_ecommerce_cleaned_dataset_50k.csv')"
   ]
  },
  {
   "cell_type": "code",
   "execution_count": 3,
   "id": "6e92c84d-7501-4fd8-9f0e-3b8395cafaef",
   "metadata": {},
   "outputs": [
    {
     "name": "stdout",
     "output_type": "stream",
     "text": [
      "Unnamed: 0                0\n",
      "order_id                  0\n",
      "customer_id               0\n",
      "customer_name             0\n",
      "customer_email            0\n",
      "customer_phone            0\n",
      "customer_age              0\n",
      "customer_gender           0\n",
      "customer_tier             0\n",
      "product_id                0\n",
      "product_name              0\n",
      "product_category          0\n",
      "product_subcategory       0\n",
      "brand                     0\n",
      "seller_id                 0\n",
      "seller_name               0\n",
      "seller_rating             0\n",
      "order_date                0\n",
      "delivery_date             0\n",
      "shipping_city             0\n",
      "shipping_state            0\n",
      "shipping_pincode          0\n",
      "payment_method            0\n",
      "quantity                  0\n",
      "unit_price                0\n",
      "discount_percent          0\n",
      "discount_amount           0\n",
      "total_amount              0\n",
      "gst_amount                0\n",
      "shipping_charge           0\n",
      "order_status              0\n",
      "return_status             0\n",
      "customer_review_rating    0\n",
      "dtype: int64\n"
     ]
    }
   ],
   "source": [
    "print(df.isnull().sum())"
   ]
  },
  {
   "cell_type": "code",
   "execution_count": 4,
   "id": "90986afc-6781-47b6-8787-1656c76bd126",
   "metadata": {},
   "outputs": [
    {
     "name": "stdout",
     "output_type": "stream",
     "text": [
      "<bound method NDFrame.head of        Unnamed: 0    order_id customer_id customer_name  \\\n",
      "0               0  ORD1000000   CUST90166     Raj Kumar   \n",
      "1               1  ORD1000001   CUST45326   Rohan Kumar   \n",
      "2               2  ORD1000002   CUST51923    Kavya Iyer   \n",
      "3               3  ORD1000003   CUST37815   Pooja Gupta   \n",
      "4               4  ORD1000004   CUST74865   Aditi Reddy   \n",
      "...           ...         ...         ...           ...   \n",
      "36902       49992  ORD1049992   CUST66232    Rahul Iyer   \n",
      "36903       49994  ORD1049994   CUST86938      Sara Rao   \n",
      "36904       49996  ORD1049996   CUST96028    Riya Menon   \n",
      "36905       49998  ORD1049998   CUST55659   Rohan Menon   \n",
      "36906       49999  ORD1049999   CUST24147  Kavya Mishra   \n",
      "\n",
      "                customer_email  customer_phone  customer_age customer_gender  \\\n",
      "0          raj.kumar@gmail.com    0.000000e+00          31.0           Other   \n",
      "1        rohan.kumar@gmail.com    9.562942e+09          52.0               F   \n",
      "2         kavya.iyer@gmail.com    9.127716e+09          53.0         Invalid   \n",
      "3        pooja.gupta@gmail.com    0.000000e+00          52.0               F   \n",
      "4      customeremail@gmail.com    9.072088e+09          60.0               M   \n",
      "...                        ...             ...           ...             ...   \n",
      "36902     rahul.iyer@gmail.com    0.000000e+00          22.0           Other   \n",
      "36903       sara.rao@gmail.com    9.548104e+09          32.0           Other   \n",
      "36904     riya.menon@gmail.com    9.111741e+09          24.0               F   \n",
      "36905    rohan.menon@gmail.com    9.568695e+09          42.0           Other   \n",
      "36906   kavya.mishra@gmail.com    9.084553e+09          56.0           Other   \n",
      "\n",
      "      customer_tier product_id  ... quantity unit_price discount_percent  \\\n",
      "0          Platinum   PROD9205  ...        4   79634.75             42.0   \n",
      "1            Silver   PROD8528  ...        1   30076.78             20.0   \n",
      "2            Bronze   PROD2129  ...        5    1713.75              0.0   \n",
      "3            Bronze   PROD3947  ...        1   96919.59             49.0   \n",
      "4              Gold   PROD6831  ...        3   86805.25              0.0   \n",
      "...             ...        ...  ...      ...        ...              ...   \n",
      "36902        Silver   PROD9689  ...        5   64485.76              7.0   \n",
      "36903          Gold   PROD2630  ...        3   10113.00              0.0   \n",
      "36904        Bronze   PROD9040  ...        5   74463.11             49.0   \n",
      "36905        Silver   PROD6215  ...        2   52034.47              0.0   \n",
      "36906       Unknown   PROD9084  ...        2     560.12             31.0   \n",
      "\n",
      "      discount_amount total_amount gst_amount  shipping_charge order_status  \\\n",
      "0           133786.38    218008.09   33255.47              0.0     Returned   \n",
      "1             6015.36     28392.48    4331.06              0.0   Processing   \n",
      "2                0.00     10111.13    1542.38              0.0      Shipped   \n",
      "3            47490.60     58376.21    8897.22             50.0     Returned   \n",
      "4                0.00    307290.58   46874.83              0.0      Pending   \n",
      "...               ...          ...        ...              ...          ...   \n",
      "36902        22570.02    353833.36   53974.58              0.0      Pending   \n",
      "36903            0.00     35800.02    5461.02              0.0      Pending   \n",
      "36904       182434.62    224059.50   34178.57              0.0    Delivered   \n",
      "36905            0.00    122950.35   18732.41            149.0     Returned   \n",
      "36906          347.27       912.10     139.13              0.0   Processing   \n",
      "\n",
      "      return_status customer_review_rating  \n",
      "0          Returned                    3.0  \n",
      "1      Not Returned                    3.0  \n",
      "2      Not Returned                    3.0  \n",
      "3          Returned                    3.0  \n",
      "4      Not Returned                    3.0  \n",
      "...             ...                    ...  \n",
      "36902  Not Returned                    3.0  \n",
      "36903  Not Returned                    3.0  \n",
      "36904  Not Returned                    3.0  \n",
      "36905      Returned                    3.0  \n",
      "36906  Not Returned                    3.0  \n",
      "\n",
      "[36907 rows x 33 columns]>\n"
     ]
    }
   ],
   "source": [
    "print(df.head)"
   ]
  },
  {
   "cell_type": "code",
   "execution_count": 12,
   "id": "cd86dc99-9879-4b23-a586-badd1723e560",
   "metadata": {},
   "outputs": [],
   "source": [
    "df = df.drop_duplicates(subset=['order_id'])"
   ]
  },
  {
   "cell_type": "code",
   "execution_count": 13,
   "id": "9ab88755-0d95-4496-a9f5-ca0124c7ed06",
   "metadata": {},
   "outputs": [],
   "source": [
    "df= df.drop_duplicates(subset=['customer_id'])"
   ]
  },
  {
   "cell_type": "code",
   "execution_count": 5,
   "id": "d6544c0f-7474-466e-a95c-781d33ef3a0d",
   "metadata": {},
   "outputs": [
    {
     "name": "stdout",
     "output_type": "stream",
     "text": [
      "Unnamed: 0                0\n",
      "order_id                  0\n",
      "customer_id               0\n",
      "customer_name             0\n",
      "customer_email            0\n",
      "customer_phone            0\n",
      "customer_age              0\n",
      "customer_gender           0\n",
      "customer_tier             0\n",
      "product_id                0\n",
      "product_name              0\n",
      "product_category          0\n",
      "product_subcategory       0\n",
      "brand                     0\n",
      "seller_id                 0\n",
      "seller_name               0\n",
      "seller_rating             0\n",
      "order_date                0\n",
      "delivery_date             0\n",
      "shipping_city             0\n",
      "shipping_state            0\n",
      "shipping_pincode          0\n",
      "payment_method            0\n",
      "quantity                  0\n",
      "unit_price                0\n",
      "discount_percent          0\n",
      "discount_amount           0\n",
      "total_amount              0\n",
      "gst_amount                0\n",
      "shipping_charge           0\n",
      "order_status              0\n",
      "return_status             0\n",
      "customer_review_rating    0\n",
      "dtype: int64\n"
     ]
    }
   ],
   "source": [
    "print(df.isnull().sum())"
   ]
  },
  {
   "cell_type": "code",
   "execution_count": 6,
   "id": "2f8f6c62-0bdc-434c-b8f9-005c062feeb9",
   "metadata": {},
   "outputs": [],
   "source": [
    "df = df.drop_duplicates()"
   ]
  },
  {
   "cell_type": "code",
   "execution_count": 7,
   "id": "ce22d68a-5d51-4af0-afd2-88c5ae1939ac",
   "metadata": {},
   "outputs": [
    {
     "name": "stdout",
     "output_type": "stream",
     "text": [
      "Unnamed: 0                  int64\n",
      "order_id                   object\n",
      "customer_id                object\n",
      "customer_name              object\n",
      "customer_email             object\n",
      "customer_phone            float64\n",
      "customer_age              float64\n",
      "customer_gender            object\n",
      "customer_tier              object\n",
      "product_id                 object\n",
      "product_name               object\n",
      "product_category           object\n",
      "product_subcategory        object\n",
      "brand                      object\n",
      "seller_id                  object\n",
      "seller_name                object\n",
      "seller_rating             float64\n",
      "order_date                 object\n",
      "delivery_date              object\n",
      "shipping_city              object\n",
      "shipping_state             object\n",
      "shipping_pincode          float64\n",
      "payment_method             object\n",
      "quantity                    int64\n",
      "unit_price                float64\n",
      "discount_percent          float64\n",
      "discount_amount           float64\n",
      "total_amount              float64\n",
      "gst_amount                float64\n",
      "shipping_charge           float64\n",
      "order_status               object\n",
      "return_status              object\n",
      "customer_review_rating    float64\n",
      "dtype: object\n"
     ]
    }
   ],
   "source": [
    "print(df.dtypes) "
   ]
  },
  {
   "cell_type": "code",
   "execution_count": 15,
   "id": "ea7e6e1e-b0f9-4689-bfc0-b13b74cf9ec9",
   "metadata": {},
   "outputs": [],
   "source": [
    "df= df.drop_duplicates(subset=['customer_id'])"
   ]
  },
  {
   "cell_type": "code",
   "execution_count": 17,
   "id": "7f3568c5-b57e-44f1-ae49-58c1c4823042",
   "metadata": {},
   "outputs": [
    {
     "name": "stdout",
     "output_type": "stream",
     "text": [
      "order_id                      0\n",
      "customer_id                   1\n",
      "customer_name              1179\n",
      "customer_email             2929\n",
      "customer_phone             3658\n",
      "customer_age               5414\n",
      "customer_gender            4339\n",
      "customer_tier              7431\n",
      "product_id                    0\n",
      "product_name                  0\n",
      "product_category              0\n",
      "product_subcategory           0\n",
      "brand                      1860\n",
      "seller_id                     0\n",
      "seller_name                   0\n",
      "seller_rating              3642\n",
      "order_date                    0\n",
      "delivery_date              9337\n",
      "shipping_city               726\n",
      "shipping_state              739\n",
      "shipping_pincode           1859\n",
      "payment_method                0\n",
      "quantity                      0\n",
      "unit_price                    0\n",
      "discount_percent          11044\n",
      "discount_amount           11532\n",
      "total_amount                  0\n",
      "gst_amount                    0\n",
      "shipping_charge           14874\n",
      "order_status                  0\n",
      "return_status             27615\n",
      "customer_review_rating    35092\n",
      "dtype: int64\n"
     ]
    }
   ],
   "source": [
    "print(df.isnull().sum())"
   ]
  },
  {
   "cell_type": "code",
   "execution_count": 18,
   "id": "26cbfeb0-34e2-473c-aa1e-f15c15629002",
   "metadata": {},
   "outputs": [
    {
     "name": "stdout",
     "output_type": "stream",
     "text": [
      "       order_id  customer_id  customer_name  customer_email  customer_phone  \\\n",
      "0         False        False          False           False            True   \n",
      "1         False        False          False           False           False   \n",
      "2         False        False          False           False           False   \n",
      "3         False        False          False           False            True   \n",
      "4         False        False          False            True           False   \n",
      "...         ...          ...            ...             ...             ...   \n",
      "49992     False        False          False           False            True   \n",
      "49994     False        False          False           False           False   \n",
      "49996     False        False          False           False           False   \n",
      "49998     False        False          False           False           False   \n",
      "49999     False        False          False           False           False   \n",
      "\n",
      "       customer_age  customer_gender  customer_tier  product_id  product_name  \\\n",
      "0             False            False          False       False         False   \n",
      "1             False            False          False       False         False   \n",
      "2             False             True          False       False         False   \n",
      "3             False            False          False       False         False   \n",
      "4             False            False          False       False         False   \n",
      "...             ...              ...            ...         ...           ...   \n",
      "49992         False            False          False       False         False   \n",
      "49994         False            False          False       False         False   \n",
      "49996         False            False          False       False         False   \n",
      "49998          True            False          False       False         False   \n",
      "49999         False            False           True       False         False   \n",
      "\n",
      "       ...  quantity  unit_price  discount_percent  discount_amount  \\\n",
      "0      ...     False       False             False            False   \n",
      "1      ...     False       False             False            False   \n",
      "2      ...     False       False              True             True   \n",
      "3      ...     False       False             False            False   \n",
      "4      ...     False       False              True             True   \n",
      "...    ...       ...         ...               ...              ...   \n",
      "49992  ...     False       False             False            False   \n",
      "49994  ...     False       False              True             True   \n",
      "49996  ...     False       False             False            False   \n",
      "49998  ...     False       False              True             True   \n",
      "49999  ...     False       False             False            False   \n",
      "\n",
      "       total_amount  gst_amount  shipping_charge  order_status  return_status  \\\n",
      "0             False       False             True         False          False   \n",
      "1             False       False             True         False           True   \n",
      "2             False       False             True         False           True   \n",
      "3             False       False            False         False          False   \n",
      "4             False       False             True         False           True   \n",
      "...             ...         ...              ...           ...            ...   \n",
      "49992         False       False             True         False           True   \n",
      "49994         False       False             True         False           True   \n",
      "49996         False       False             True         False           True   \n",
      "49998         False       False            False         False          False   \n",
      "49999         False       False            False         False           True   \n",
      "\n",
      "       customer_review_rating  \n",
      "0                        True  \n",
      "1                        True  \n",
      "2                        True  \n",
      "3                        True  \n",
      "4                        True  \n",
      "...                       ...  \n",
      "49992                    True  \n",
      "49994                    True  \n",
      "49996                   False  \n",
      "49998                    True  \n",
      "49999                    True  \n",
      "\n",
      "[36907 rows x 32 columns]\n"
     ]
    }
   ],
   "source": [
    "print(df.isnull())"
   ]
  },
  {
   "cell_type": "code",
   "execution_count": 19,
   "id": "51227dac-8e24-41f5-ab20-046276287c3f",
   "metadata": {},
   "outputs": [],
   "source": [
    "df['customer_name'] = df['customer_name'].fillna('Unknown')"
   ]
  },
  {
   "cell_type": "code",
   "execution_count": 20,
   "id": "08421d8d-71db-453d-b158-19d6960c5228",
   "metadata": {},
   "outputs": [
    {
     "name": "stdout",
     "output_type": "stream",
     "text": [
      "order_id                      0\n",
      "customer_id                   1\n",
      "customer_name                 0\n",
      "customer_email             2929\n",
      "customer_phone             3658\n",
      "customer_age               5414\n",
      "customer_gender            4339\n",
      "customer_tier              7431\n",
      "product_id                    0\n",
      "product_name                  0\n",
      "product_category              0\n",
      "product_subcategory           0\n",
      "brand                      1860\n",
      "seller_id                     0\n",
      "seller_name                   0\n",
      "seller_rating              3642\n",
      "order_date                    0\n",
      "delivery_date              9337\n",
      "shipping_city               726\n",
      "shipping_state              739\n",
      "shipping_pincode           1859\n",
      "payment_method                0\n",
      "quantity                      0\n",
      "unit_price                    0\n",
      "discount_percent          11044\n",
      "discount_amount           11532\n",
      "total_amount                  0\n",
      "gst_amount                    0\n",
      "shipping_charge           14874\n",
      "order_status                  0\n",
      "return_status             27615\n",
      "customer_review_rating    35092\n",
      "dtype: int64\n"
     ]
    }
   ],
   "source": [
    "print(df.isnull().sum())"
   ]
  },
  {
   "cell_type": "code",
   "execution_count": 23,
   "id": "d633a647-055a-4eb6-8e83-a7497d27e8de",
   "metadata": {},
   "outputs": [],
   "source": [
    "df['customer_id'] = df['customer_id'].fillna('Unknown')"
   ]
  },
  {
   "cell_type": "code",
   "execution_count": 24,
   "id": "ad5cd880-c0b9-40ab-974b-981052c5edea",
   "metadata": {},
   "outputs": [
    {
     "name": "stdout",
     "output_type": "stream",
     "text": [
      "order_id                      0\n",
      "customer_id                   0\n",
      "customer_name                 0\n",
      "customer_email             2929\n",
      "customer_phone             3658\n",
      "customer_age               5414\n",
      "customer_gender            4339\n",
      "customer_tier              7431\n",
      "product_id                    0\n",
      "product_name                  0\n",
      "product_category              0\n",
      "product_subcategory           0\n",
      "brand                      1860\n",
      "seller_id                     0\n",
      "seller_name                   0\n",
      "seller_rating              3642\n",
      "order_date                    0\n",
      "delivery_date              9337\n",
      "shipping_city               726\n",
      "shipping_state              739\n",
      "shipping_pincode           1859\n",
      "payment_method                0\n",
      "quantity                      0\n",
      "unit_price                    0\n",
      "discount_percent          11044\n",
      "discount_amount           11532\n",
      "total_amount                  0\n",
      "gst_amount                    0\n",
      "shipping_charge           14874\n",
      "order_status                  0\n",
      "return_status             27615\n",
      "customer_review_rating    35092\n",
      "dtype: int64\n"
     ]
    }
   ],
   "source": [
    "print(df.isnull().sum())"
   ]
  },
  {
   "cell_type": "code",
   "execution_count": 25,
   "id": "cc730717-f80d-450a-9e8c-88a1c23c2a0a",
   "metadata": {},
   "outputs": [],
   "source": [
    "df['customer_email'] = df['customer_email'].fillna('customeremail@gmail.com')"
   ]
  },
  {
   "cell_type": "code",
   "execution_count": 28,
   "id": "c8277b20-a3f0-4e24-a533-1502d1474d5d",
   "metadata": {},
   "outputs": [],
   "source": [
    "df['customer_gender'] = df['customer_gender'].fillna(\"Invalid\")"
   ]
  },
  {
   "cell_type": "code",
   "execution_count": 29,
   "id": "215bae84-6286-4eff-9dce-039c79352385",
   "metadata": {},
   "outputs": [],
   "source": [
    "df['customer_tier'] = df['customer_tier'].fillna(\"Unknown\")"
   ]
  },
  {
   "cell_type": "code",
   "execution_count": 30,
   "id": "82d074c3-1329-4787-8608-2caba8440cd5",
   "metadata": {},
   "outputs": [
    {
     "name": "stdout",
     "output_type": "stream",
     "text": [
      "order_id                      0\n",
      "customer_id                   0\n",
      "customer_name                 0\n",
      "customer_email                0\n",
      "customer_phone                0\n",
      "customer_age               5414\n",
      "customer_gender               0\n",
      "customer_tier                 0\n",
      "product_id                    0\n",
      "product_name                  0\n",
      "product_category              0\n",
      "product_subcategory           0\n",
      "brand                      1860\n",
      "seller_id                     0\n",
      "seller_name                   0\n",
      "seller_rating              3642\n",
      "order_date                    0\n",
      "delivery_date              9337\n",
      "shipping_city               726\n",
      "shipping_state              739\n",
      "shipping_pincode           1859\n",
      "payment_method                0\n",
      "quantity                      0\n",
      "unit_price                    0\n",
      "discount_percent          11044\n",
      "discount_amount           11532\n",
      "total_amount                  0\n",
      "gst_amount                    0\n",
      "shipping_charge           14874\n",
      "order_status                  0\n",
      "return_status             27615\n",
      "customer_review_rating    35092\n",
      "dtype: int64\n"
     ]
    }
   ],
   "source": [
    "print(df.isnull().sum())"
   ]
  },
  {
   "cell_type": "code",
   "execution_count": 31,
   "id": "5a5aadfe-a74e-4056-95ef-0d3e7dfbf6a5",
   "metadata": {},
   "outputs": [],
   "source": [
    "df['customer_age'] = df['customer_age'].fillna(df['customer_age'].mode()[0])"
   ]
  },
  {
   "cell_type": "code",
   "execution_count": 32,
   "id": "521d9af6-45ff-4ad6-9a41-e4480725ac5a",
   "metadata": {},
   "outputs": [],
   "source": [
    "df['brand'] = df['brand'].fillna(\"local brands\")"
   ]
  },
  {
   "cell_type": "code",
   "execution_count": 33,
   "id": "b6243081-3b4b-4e65-8a45-6c50947d6424",
   "metadata": {},
   "outputs": [],
   "source": [
    "df['seller_rating'] = df['seller_rating'].fillna(df['seller_rating'].mode()[0])"
   ]
  },
  {
   "cell_type": "code",
   "execution_count": 34,
   "id": "60541e9f-85f3-4f65-a9d7-da5b621c59b5",
   "metadata": {},
   "outputs": [],
   "source": [
    "df['delivery_date'] = df['delivery_date'].fillna(df['delivery_date'].mode()[0])"
   ]
  },
  {
   "cell_type": "code",
   "execution_count": 38,
   "id": "a1fdd9a0-ffe6-447c-b90a-0ba614999a7a",
   "metadata": {},
   "outputs": [],
   "source": [
    "df['shipping_city'] = df['shipping_city'].fillna(\"Unknown\")"
   ]
  },
  {
   "cell_type": "code",
   "execution_count": 39,
   "id": "87844c0b-405f-4421-800e-c1da2b5531f9",
   "metadata": {},
   "outputs": [
    {
     "name": "stdout",
     "output_type": "stream",
     "text": [
      "order_id                      0\n",
      "customer_id                   0\n",
      "customer_name                 0\n",
      "customer_email                0\n",
      "customer_phone                0\n",
      "customer_age                  0\n",
      "customer_gender               0\n",
      "customer_tier                 0\n",
      "product_id                    0\n",
      "product_name                  0\n",
      "product_category              0\n",
      "product_subcategory           0\n",
      "brand                         0\n",
      "seller_id                     0\n",
      "seller_name                   0\n",
      "seller_rating                 0\n",
      "order_date                    0\n",
      "delivery_date                 0\n",
      "shipping_city                 0\n",
      "shipping_state              739\n",
      "shipping_pincode           1859\n",
      "payment_method                0\n",
      "quantity                      0\n",
      "unit_price                    0\n",
      "discount_percent          11044\n",
      "discount_amount           11532\n",
      "total_amount                  0\n",
      "gst_amount                    0\n",
      "shipping_charge           14874\n",
      "order_status                  0\n",
      "return_status             27615\n",
      "customer_review_rating    35092\n",
      "dtype: int64\n"
     ]
    }
   ],
   "source": [
    "print(df.isnull().sum())"
   ]
  },
  {
   "cell_type": "code",
   "execution_count": 40,
   "id": "b674a125-84e0-417d-a22c-576a0e3f15e0",
   "metadata": {},
   "outputs": [],
   "source": [
    "df['shipping_state'] = df['shipping_state'].fillna(\"Unknown\")"
   ]
  },
  {
   "cell_type": "code",
   "execution_count": 41,
   "id": "b4e15dc6-d1f3-40cf-936d-0cef375c94e9",
   "metadata": {},
   "outputs": [],
   "source": [
    "df['shipping_pincode'] = df['shipping_pincode'].fillna(df['shipping_pincode'].mode()[0])"
   ]
  },
  {
   "cell_type": "code",
   "execution_count": 42,
   "id": "c852e071-8918-45ad-9d13-fc6689d76a56",
   "metadata": {},
   "outputs": [
    {
     "name": "stdout",
     "output_type": "stream",
     "text": [
      "order_id                      0\n",
      "customer_id                   0\n",
      "customer_name                 0\n",
      "customer_email                0\n",
      "customer_phone                0\n",
      "customer_age                  0\n",
      "customer_gender               0\n",
      "customer_tier                 0\n",
      "product_id                    0\n",
      "product_name                  0\n",
      "product_category              0\n",
      "product_subcategory           0\n",
      "brand                         0\n",
      "seller_id                     0\n",
      "seller_name                   0\n",
      "seller_rating                 0\n",
      "order_date                    0\n",
      "delivery_date                 0\n",
      "shipping_city                 0\n",
      "shipping_state                0\n",
      "shipping_pincode              0\n",
      "payment_method                0\n",
      "quantity                      0\n",
      "unit_price                    0\n",
      "discount_percent          11044\n",
      "discount_amount           11532\n",
      "total_amount                  0\n",
      "gst_amount                    0\n",
      "shipping_charge           14874\n",
      "order_status                  0\n",
      "return_status             27615\n",
      "customer_review_rating    35092\n",
      "dtype: int64\n"
     ]
    }
   ],
   "source": [
    "print(df.isnull().sum())"
   ]
  },
  {
   "cell_type": "code",
   "execution_count": 43,
   "id": "8a697ac5-6f6e-49f3-b0db-6bf08c7e3491",
   "metadata": {},
   "outputs": [],
   "source": [
    "df['discount_percent'] = df['discount_percent'].fillna(0)"
   ]
  },
  {
   "cell_type": "code",
   "execution_count": 44,
   "id": "fe97fef6-1c38-46bc-b456-83b654333efc",
   "metadata": {},
   "outputs": [],
   "source": [
    "df['discount_amount'] = df['discount_amount'].fillna(0)"
   ]
  },
  {
   "cell_type": "code",
   "execution_count": 45,
   "id": "9c05ac74-67be-4908-a42d-a47ee08a4aab",
   "metadata": {},
   "outputs": [],
   "source": [
    "df['shipping_charge'] = df['shipping_charge'].fillna(0)"
   ]
  },
  {
   "cell_type": "code",
   "execution_count": 46,
   "id": "8e999487-fbb5-47c8-8bf6-e75bc28e2a06",
   "metadata": {},
   "outputs": [],
   "source": [
    "df['return_status'] = df['return_status'].fillna(\"Not Returned\")"
   ]
  },
  {
   "cell_type": "code",
   "execution_count": 47,
   "id": "b9df913e-f07a-4652-8f3d-aa32dec9803f",
   "metadata": {},
   "outputs": [],
   "source": [
    "df['customer_review_rating'] = df['customer_review_rating'].fillna(df['customer_review_rating'].median())"
   ]
  },
  {
   "cell_type": "code",
   "execution_count": 48,
   "id": "28678a38-13df-485c-82e0-49003759cceb",
   "metadata": {},
   "outputs": [
    {
     "name": "stdout",
     "output_type": "stream",
     "text": [
      "order_id                  0\n",
      "customer_id               0\n",
      "customer_name             0\n",
      "customer_email            0\n",
      "customer_phone            0\n",
      "customer_age              0\n",
      "customer_gender           0\n",
      "customer_tier             0\n",
      "product_id                0\n",
      "product_name              0\n",
      "product_category          0\n",
      "product_subcategory       0\n",
      "brand                     0\n",
      "seller_id                 0\n",
      "seller_name               0\n",
      "seller_rating             0\n",
      "order_date                0\n",
      "delivery_date             0\n",
      "shipping_city             0\n",
      "shipping_state            0\n",
      "shipping_pincode          0\n",
      "payment_method            0\n",
      "quantity                  0\n",
      "unit_price                0\n",
      "discount_percent          0\n",
      "discount_amount           0\n",
      "total_amount              0\n",
      "gst_amount                0\n",
      "shipping_charge           0\n",
      "order_status              0\n",
      "return_status             0\n",
      "customer_review_rating    0\n",
      "dtype: int64\n"
     ]
    }
   ],
   "source": [
    "print(df.isnull().sum())"
   ]
  },
  {
   "cell_type": "code",
   "execution_count": null,
   "id": "554f3f8c-c6ae-4049-b0b1-909d65b561d6",
   "metadata": {},
   "outputs": [],
   "source": [
    "df.to_csv('indian_ecommerce_dataset_50k.csv')"
   ]
  }
 ],
 "metadata": {
  "kernelspec": {
   "display_name": "Python 3 (ipykernel)",
   "language": "python",
   "name": "python3"
  },
  "language_info": {
   "codemirror_mode": {
    "name": "ipython",
    "version": 3
   },
   "file_extension": ".py",
   "mimetype": "text/x-python",
   "name": "python",
   "nbconvert_exporter": "python",
   "pygments_lexer": "ipython3",
   "version": "3.13.5"
  }
 },
 "nbformat": 4,
 "nbformat_minor": 5
}
